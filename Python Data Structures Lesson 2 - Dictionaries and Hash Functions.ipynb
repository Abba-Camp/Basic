{
 "cells": [
  {
   "cell_type": "markdown",
   "metadata": {},
   "source": [
    "## Python Data Structures - Dictionaries and Hash Functions"
   ]
  },
  {
   "cell_type": "markdown",
   "metadata": {},
   "source": [
    "### Dictionary type"
   ]
  },
  {
   "cell_type": "markdown",
   "metadata": {},
   "source": [
    "**Definition**: **_dictionary / map / associative array_** (from _Wikipedia_ ): an abstract data type composed of a collection of (key, value) pairs, such that each possible key appears at most once in the collection.\n",
    "\n",
    "Operations associated with this data type allow:\n",
    "\n",
    "    1. Adding a pair to the collection\n",
    "    2. Removing a pair from the collection\n",
    "    3. Modification of an existing pair\n",
    "    4. Lookup of a value associated with a particular key"
   ]
  },
  {
   "cell_type": "markdown",
   "metadata": {},
   "source": [
    "Accesing data on a list:"
   ]
  },
  {
   "cell_type": "code",
   "execution_count": 1,
   "metadata": {},
   "outputs": [],
   "source": [
    "lst=['Joe Biden', 'Cory Booker', 'Pete Buttigieg', 'Julián Castro', \n",
    "     'Kamala Harris', 'Amy Klobuchar', 'Beto O’Rourke', 'Bernie Sanders',\n",
    "     'Elizabeth Warren' , 'Andrew Yang Tom Steyer', 'Tulsi Gabbard']\n"
   ]
  },
  {
   "cell_type": "code",
   "execution_count": 3,
   "metadata": {},
   "outputs": [
    {
     "name": "stdout",
     "output_type": "stream",
     "text": [
      "Julián Castro\n",
      "Beto O’Rourke\n"
     ]
    }
   ],
   "source": [
    "print(lst[3])\n",
    "print(lst[6])\n"
   ]
  },
  {
   "cell_type": "markdown",
   "metadata": {},
   "source": [
    "A _list_ is an example of an associative array where the key used as the relative placment in the array. A _dictionary_ is an associative array where arbitrary keys may be used. "
   ]
  },
  {
   "cell_type": "code",
   "execution_count": 9,
   "metadata": {},
   "outputs": [],
   "source": [
    "dct={'Joe Biden':'Deleware','Cory Booker':'New Jersey',\n",
    "     'Pete Buttigieg':'Indiana','Julián Castro':'Texas',\n",
    "     'Kamala Harris':'California','Amy Klobuchar':'Michigan',\n",
    "     'Beto O’Rourke':'Texas','Bernie Sanders':'Vermont',\n",
    "     'Elizabeth Warren':'Masachusetts','Andrew Yang':'New York',\n",
    "     'Tom Steyer':'California','Tulsi Gabbard':'Hawaii'}\n"
   ]
  },
  {
   "cell_type": "code",
   "execution_count": 10,
   "metadata": {},
   "outputs": [
    {
     "name": "stdout",
     "output_type": "stream",
     "text": [
      "Deleware\n",
      "Texas\n"
     ]
    }
   ],
   "source": [
    "print(dct['Joe Biden'])\n",
    "print(dct['Beto O’Rourke'])\n"
   ]
  },
  {
   "cell_type": "markdown",
   "metadata": {},
   "source": [
    "The dictionary data type supports methods _keys()_ , and _values()_ for extracting lists of keys and values. "
   ]
  },
  {
   "cell_type": "code",
   "execution_count": 11,
   "metadata": {},
   "outputs": [
    {
     "name": "stdout",
     "output_type": "stream",
     "text": [
      "dict_keys(['Joe Biden', 'Cory Booker', 'Pete Buttigieg', 'Julián Castro', 'Kamala Harris', 'Amy Klobuchar', 'Beto O’Rourke', 'Bernie Sanders', 'Elizabeth Warren', 'Andrew Yang', 'Tom Steyer', 'Tulsi Gabbard'])\n"
     ]
    }
   ],
   "source": [
    "print(dct.keys())\n"
   ]
  },
  {
   "cell_type": "code",
   "execution_count": 12,
   "metadata": {},
   "outputs": [
    {
     "name": "stdout",
     "output_type": "stream",
     "text": [
      "dict_values(['Deleware', 'New Jersey', 'Indiana', 'Texas', 'California', 'Michigan', 'Texas', 'Vermont', 'Masachusetts', 'New York', 'California', 'Hawaii'])\n"
     ]
    }
   ],
   "source": [
    "print(dct.values())\n"
   ]
  },
  {
   "cell_type": "markdown",
   "metadata": {},
   "source": [
    "### Implementing a dictionary"
   ]
  },
  {
   "cell_type": "markdown",
   "metadata": {},
   "source": [
    "The **_dictionary problem_** is a classic computer science problem: the task of designing a data structure that maintains a set of data during 'search', 'delete', and 'insert' operations. The two major solutions to the dictionary problem are a hash table or a search tree. In some cases it is also possible to solve the problem using directly addressed arrays, binary search trees, or other more specialized structures.    (from _Wikipedia_ )"
   ]
  },
  {
   "cell_type": "markdown",
   "metadata": {},
   "source": [
    "Suppose we are given a directory listing candidates and their home states. We would like to implement a dictionary mapping the name of the candidate to his or her home state. "
   ]
  },
  {
   "cell_type": "code",
   "execution_count": 93,
   "metadata": {},
   "outputs": [],
   "source": [
    "directory=[('Joe Biden', 'Deleware'),\n",
    " ('Cory Booker', 'New Jersey'),\n",
    " ('Pete Buttigieg', 'Indiana'),\n",
    " ('Julián Castro', 'Texas'),\n",
    " ('Kamala Harris', 'California'),\n",
    " ('Amy Klobuchar', 'Michigan'),\n",
    " ('Beto O’Rourke', 'Texas'),\n",
    " ('Bernie Sanders', 'Vermont'),\n",
    " ('Elizabeth Warren', 'Masachusetts'),\n",
    " ('Andrew Yang', 'New York'),\n",
    " ('Tom Steyer', 'California'),\n",
    " ('Tulsi Gabbard', 'Hawaii')]\n"
   ]
  },
  {
   "cell_type": "markdown",
   "metadata": {},
   "source": [
    "The first step towards this objdctive would be to map names and strings in general to integers, that can later be used to access memeory entries. For this we have to first understsand string and their encoding. "
   ]
  },
  {
   "cell_type": "markdown",
   "metadata": {},
   "source": [
    "**Definition**: **_Unicode_** (from _Wikipedia_ ): a computing industry standard for the consistent encoding, representation, and handling of text expressed in most of the world's writing systems. The standard is maintained by the Unicode Consortium, and the most recent version, Unicode 12.1, contains a repertoire of 137,994 characters covering 150 modern and historic scripts, as well as multiple symbol sets and emoji. "
   ]
  },
  {
   "cell_type": "markdown",
   "metadata": {},
   "source": [
    "**Definition**: **_ord(x)_** (from Python 3.5.7 Documentation): Given a string representing one Unicode character, return an integer representing the Unicode code point of that character. For example, ord('a') returns the integer 97 and ord (Euro sign) returns 8364. This is the inverse of **_chr(x)_** ."
   ]
  },
  {
   "cell_type": "code",
   "execution_count": 129,
   "metadata": {},
   "outputs": [
    {
     "name": "stdout",
     "output_type": "stream",
     "text": [
      "97 98 120\n"
     ]
    }
   ],
   "source": [
    "print(ord('a'),ord('b'),ord('x'))\n"
   ]
  },
  {
   "cell_type": "code",
   "execution_count": 118,
   "metadata": {},
   "outputs": [
    {
     "name": "stdout",
     "output_type": "stream",
     "text": [
      "a b x\n"
     ]
    }
   ],
   "source": [
    "print(chr(97),chr(98),chr(120))\n"
   ]
  },
  {
   "cell_type": "code",
   "execution_count": 135,
   "metadata": {},
   "outputs": [
    {
     "name": "stdout",
     "output_type": "stream",
     "text": [
      "💩 😱 🤥 ₪ €\n"
     ]
    }
   ],
   "source": [
    "print(chr(128169),chr(128561),chr(129317),chr(8362),chr(8364))\n"
   ]
  },
  {
   "cell_type": "markdown",
   "metadata": {},
   "source": [
    "**Definition**: **_Hash Function_** (from _Wikipedia_ ): Any function that can be used to map data of arbitrary size to fixed-size values. The values returned by a hash function are called _hash values_ , _hash codes_ , _digests_ , or simply _hashes_ . The values are used to index a fixed-size table called a hash table. Use of a hash function to index a hash table is called hashing or scatter storage addressing.\n",
    "\n",
    "Hash functions and their associated hash tables are used in data storage and retrieval applications to access data in a small and nearly constant time per retrieval, and storage space only fractionally greater than the total space required for the data or records themselves. Hashing is a computationally and storage space efficient form of data access which avoids the non-linear access time of ordered and unordered lists and structured trees, and the often exponential storage requirements of direct access of state spaces of large or variable-length keys. "
   ]
  },
  {
   "cell_type": "markdown",
   "metadata": {},
   "source": [
    "#### Exercise #1: Implementing a simple hash funtion\n",
    "Use the _ord()_ function to write a function _hash(str)_ that maps strings to integer numbers in the range 0...96 as follows:\n",
    "1. compute the product of the non zero unicode values of the letter of each candidate's name\n",
    "2. Multiply the result by a large integer \n",
    "3. Map the result to the number 0..96\n",
    "4. Find an integer in step 2 so that the mapping in step 4 is one to one"
   ]
  },
  {
   "cell_type": "markdown",
   "metadata": {},
   "source": [
    "Joe Biden --> 56<br>\n",
    "Cory Booker --> 36<br>\n",
    "Pete Buttigieg --> 4<br>\n",
    "Julián Castro --> 0<br>\n",
    "Kamala Harris --> 47<br>\n",
    "Amy Klobuchar --> 34<br>\n",
    "Beto O’Rourke --> 15<br>\n",
    "Bernie Sanders --> 58<br>\n",
    "Elizabeth Warren --> 6<br>\n",
    "Andrew Yang --> 37<br>\n",
    "Tom Steyer --> 49<br>\n",
    "Tulsi Gabbard --> 88"
   ]
  },
  {
   "cell_type": "code",
   "execution_count": null,
   "metadata": {},
   "outputs": [],
   "source": [
    "## ---  Write your code here  ---\n"
   ]
  },
  {
   "cell_type": "markdown",
   "metadata": {},
   "source": [
    "**Definition**: **_Hash Table_** (from _Wikipedia_ ): a data structure that implements a dictionary / associative array abstract data type, a structure that can map keys to values. A hash table uses a hash function to compute an index, also called a hash code, into an array of buckets or slots, from which the desired value can be found. "
   ]
  },
  {
   "cell_type": "markdown",
   "metadata": {},
   "source": [
    "#### Exercise #2: Implementing a hash table\n",
    "(a) Write a function _init()_ that creates an empty list _key_lst_ and an array with 97 slots\n"
   ]
  },
  {
   "cell_type": "code",
   "execution_count": 125,
   "metadata": {},
   "outputs": [],
   "source": [
    "## ---  Write your code here  ---\n",
    "\n"
   ]
  },
  {
   "cell_type": "markdown",
   "metadata": {},
   "source": [
    "(b) Write a function _add(key,value)_ that adds new entries into the dictionary by computing the hash of the string _key_ and places _value_ in the array entry coresponding to the hash value\n"
   ]
  },
  {
   "cell_type": "code",
   "execution_count": null,
   "metadata": {},
   "outputs": [],
   "source": [
    "## ---  Write your code here  ---\n"
   ]
  },
  {
   "cell_type": "markdown",
   "metadata": {},
   "source": [
    "(c) Write a loop that iterates over the directory of candidate names and states and adds them to your dictionary\n"
   ]
  },
  {
   "cell_type": "code",
   "execution_count": null,
   "metadata": {},
   "outputs": [],
   "source": [
    "## ---  Write your code here  ---\n"
   ]
  },
  {
   "cell_type": "markdown",
   "metadata": {},
   "source": [
    "(d) Write a function _del(key)_ that removes a key and coresponding value from the dictionary\n"
   ]
  },
  {
   "cell_type": "code",
   "execution_count": null,
   "metadata": {},
   "outputs": [],
   "source": [
    "## ---  Write your code here  ---\n"
   ]
  },
  {
   "cell_type": "markdown",
   "metadata": {},
   "source": [
    "(e) Write a function _update(key,vale)_ that modifies an entry in the dictionary if the key is alreasdy used and returns an error otherwise \n"
   ]
  },
  {
   "cell_type": "code",
   "execution_count": null,
   "metadata": {},
   "outputs": [],
   "source": [
    "## ---  Write your code here  ---\n"
   ]
  },
  {
   "cell_type": "markdown",
   "metadata": {},
   "source": [
    "(f) Write a function _lookup(key)_ that returnes the value coresponding to _key_"
   ]
  },
  {
   "cell_type": "code",
   "execution_count": null,
   "metadata": {},
   "outputs": [],
   "source": [
    "## ---  Write your code here  ---\n"
   ]
  }
 ],
 "metadata": {
  "kernelspec": {
   "display_name": "Python 3",
   "language": "python",
   "name": "python3"
  },
  "language_info": {
   "codemirror_mode": {
    "name": "ipython",
    "version": 3
   },
   "file_extension": ".py",
   "mimetype": "text/x-python",
   "name": "python",
   "nbconvert_exporter": "python",
   "pygments_lexer": "ipython3",
   "version": "3.7.3"
  }
 },
 "nbformat": 4,
 "nbformat_minor": 2
}
